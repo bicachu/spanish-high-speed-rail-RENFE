{
 "cells": [
  {
   "cell_type": "code",
   "execution_count": 1,
   "metadata": {},
   "outputs": [],
   "source": [
    "import pandas as pd\n",
    "import numpy as np\n",
    "import matplotlib.pyplot as plt\n",
    "import seaborn as sns\n",
    "import math\n",
    "import model_preparation\n",
    "\n",
    "from model_preparation import prepare_data, get_features, get_bounds, get_interval_accuracy_score\n",
    "from sklearn.metrics import mean_squared_error, r2_score\n",
    "from sklearn.ensemble import RandomForestRegressor\n",
    "from sklearn.model_selection import KFold, GridSearchCV, RandomizedSearchCV\n",
    "\n",
    "# Load in pre-split data\n",
    "X_train, X_test, y_train, y_test = prepare_data()\n",
    "features = get_features()\n",
    "train_bounds_5 = get_bounds(y_train, 5)\n",
    "train_bounds_10 = get_bounds(y_train, 10)\n",
    "test_bounds_5 = get_bounds(y_test, 5)\n",
    "test_bounds_10 = get_bounds(y_test, 10)"
   ]
  },
  {
   "cell_type": "code",
   "execution_count": 2,
   "metadata": {},
   "outputs": [],
   "source": [
    "# Flatten response variables array to list to use in models\n",
    "y_train = list(np.array(y_train).flatten())\n",
    "y_test = list(np.array(y_test).flatten())"
   ]
  },
  {
   "cell_type": "code",
   "execution_count": 4,
   "metadata": {},
   "outputs": [
    {
     "name": "stdout",
     "output_type": "stream",
     "text": [
      "Fitting 5 folds for each of 10 candidates, totalling 50 fits\n"
     ]
    },
    {
     "name": "stderr",
     "output_type": "stream",
     "text": [
      "[Parallel(n_jobs=-1)]: Using backend LokyBackend with 8 concurrent workers.\n",
      "[Parallel(n_jobs=-1)]: Done  25 tasks      | elapsed:  7.7min\n",
      "[Parallel(n_jobs=-1)]: Done  50 out of  50 | elapsed: 14.2min finished\n"
     ]
    },
    {
     "data": {
      "text/plain": [
       "{'n_estimators': 150, 'max_features': 'auto', 'max_depth': None}"
      ]
     },
     "execution_count": 4,
     "metadata": {},
     "output_type": "execute_result"
    }
   ],
   "source": [
    "# Perform cross validation to find best hyper parameters for random forest models\n",
    "rfr = RandomForestRegressor()\n",
    "parameters = {\n",
    "            \"n_estimators\" : [50, 75, 150, 250, 300, 400],\n",
    "            \"max_depth\": [None, 5, 8, 12, 15],\n",
    "            \"max_features\": ['auto','sqrt']\n",
    "            }\n",
    "\n",
    "ran = RandomizedSearchCV(estimator=rfr, param_distributions=parameters, cv=5, n_jobs=-1, n_iter=10, random_state=0, verbose=2)\n",
    "ran.fit(X_train, y_train)\n",
    "\n",
    "# View best parameters to use in final model\n",
    "ran.best_params_"
   ]
  },
  {
   "cell_type": "code",
   "execution_count": 3,
   "metadata": {},
   "outputs": [
    {
     "name": "stdout",
     "output_type": "stream",
     "text": [
      "Train Scores:\n",
      "2.4173012606601287\n",
      "0.9962858884664556\n",
      "Test Scores:\n",
      "19.684621725738268\n",
      "0.9700255811838044\n"
     ]
    }
   ],
   "source": [
    "# Train Random Forest model using best hyper-parameters \n",
    "rf_150 = RandomForestRegressor(n_estimators=150, max_depth=None)\n",
    "rf_150.fit(X_train, y_train)\n",
    "\n",
    "# Compute predictions \n",
    "y_pred_train = rf_150.predict(X_train)\n",
    "y_pred_test = rf_150.predict(X_test)\n",
    "\n",
    "# Compute metrics\n",
    "MSE = mean_squared_error(y_train, y_pred_train)\n",
    "r2 = r2_score(y_train, y_pred_train)\n",
    "\n",
    "print(\"Train Scores:\")\n",
    "print(MSE)\n",
    "print(r2)\n",
    "\n",
    "MSE = mean_squared_error(y_test, y_pred_test)\n",
    "r2 = r2_score(y_test, y_pred_test)\n",
    "\n",
    "print(\"Test Scores:\")\n",
    "print(MSE)\n",
    "print(r2)"
   ]
  },
  {
   "cell_type": "code",
   "execution_count": 5,
   "metadata": {},
   "outputs": [
    {
     "name": "stdout",
     "output_type": "stream",
     "text": [
      "5% +/- limit:\n",
      "0.76275\n",
      "10% +/- limit:\n",
      "0.88565\n"
     ]
    }
   ],
   "source": [
    "# Compute accuracy scores for 5% and 10% intervals on test data\n",
    "print(\"5% +/- limit:\")\n",
    "print(get_interval_accuracy_score(test_bounds_5, y_pred_test))\n",
    "print(\"10% +/- limit:\")\n",
    "print(get_interval_accuracy_score(test_bounds_10, y_pred_test))"
   ]
  }
 ],
 "metadata": {
  "kernelspec": {
   "display_name": "Python 3",
   "language": "python",
   "name": "python3"
  },
  "language_info": {
   "codemirror_mode": {
    "name": "ipython",
    "version": 3
   },
   "file_extension": ".py",
   "mimetype": "text/x-python",
   "name": "python",
   "nbconvert_exporter": "python",
   "pygments_lexer": "ipython3",
   "version": "3.7.4"
  }
 },
 "nbformat": 4,
 "nbformat_minor": 2
}
